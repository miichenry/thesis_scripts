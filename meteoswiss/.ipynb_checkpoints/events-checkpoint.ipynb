{
 "cells": [
  {
   "cell_type": "code",
   "execution_count": 3,
   "id": "9a3196cd-a5e3-4841-b6be-797f44884e7c",
   "metadata": {},
   "outputs": [],
   "source": [
    "import pandas as pd\n",
    "import datetime\n",
    "from datetime import datetime\n",
    "# from datetime import date\n",
    "# from dateutil.relativedelta import *\n",
    "import matplotlib.pyplot as plt\n",
    "import matplotlib.pyplot as plt\n",
    "import matplotlib.dates as mdates\n",
    "import numpy as np\n",
    "import os\n",
    "import dvv_module\n",
    "from obspy import UTCDateTime\n",
    "import scipy\n",
    "import h5py"
   ]
  },
  {
   "cell_type": "code",
   "execution_count": 4,
   "id": "e329a97d-20d1-4d2f-8291-ab140db375a5",
   "metadata": {},
   "outputs": [],
   "source": [
    "from obspy.clients.fdsn import Client\n",
    "from obspy import UTCDateTime\n",
    "client = Client(\"ETH\")\n",
    "# latitude    =   47.320211\n",
    "# longitude   =   7.39065\n",
    "# maxradius   =   0.18\n",
    "minlatitude = 47.302670\n",
    "minlongitude = 7.086450\n",
    "maxlatitude = 47.393640\n",
    "maxlongitude = 7.33701\n",
    "starttime = UTCDateTime(\"2022-11-18\")\n",
    "endtime = UTCDateTime(\"2024-03-01\")\n",
    "cat = client.get_events(starttime=starttime, endtime=endtime, minmagnitude=1, maxlatitude=maxlatitude, maxlongitude=maxlongitude, minlatitude=minlatitude, minlongitude=minlongitude)\n",
    "mag = []\n",
    "time = []\n",
    "lat = []\n",
    "long = []\n",
    "depth = []\n",
    "for event in cat:\n",
    "    mag.append(event.magnitudes[0].mag)\n",
    "    time.append(event.origins[0].time)\n",
    "    lat.append(event.origins[0].latitude)\n",
    "    long.append(event.origins[0].longitude)\n",
    "    depth.append(event.origins[0].depth)\n",
    "datetime = []\n",
    "for ti in range(len(time)):\n",
    "    datetime.append(time[ti].datetime)\n",
    "events = pd.DataFrame(\n",
    "    {'time': datetime,\n",
    "     'mag': mag,\n",
    "     'lat': lat,\n",
    "     'long': long,\n",
    "     'depth': depth,\n",
    "    })\n",
    "events.sort_values(by='mag', inplace=True, ascending=False)\n",
    "events.time = pd.to_datetime(events.time, yearfirst=True)\n",
    "events = events.reset_index(drop=True)\n",
    "events.to_csv(\"events_MOUTI.csv\",index=False)"
   ]
  },
  {
   "cell_type": "code",
   "execution_count": 5,
   "id": "96cde616-cb54-4976-83a4-9a831a6fc9ea",
   "metadata": {},
   "outputs": [
    {
     "name": "stdout",
     "output_type": "stream",
     "text": [
      "\u001b[0m\u001b[38;5;13mall.png\u001b[0m                         events2.0.csv     \u001b[38;5;33mraw_data\u001b[0m/\n",
      "\u001b[38;5;13mDEM_overall.png\u001b[0m                 events2.0.ipynb   \u001b[38;5;13msoil_temp.png\u001b[0m\n",
      "\u001b[38;5;33mdriving_factors\u001b[0m/                events.ipynb      stacking_module.py\n",
      "driving_factors1.0-Copy1.ipynb  events_MOUTI.csv  stacks2numpy_options.py\n",
      "driving_factors1.0.ipynb        events.npz        stretch.py\n",
      "dvv_module.py                   \u001b[38;5;33mplots\u001b[0m/\n",
      "\u001b[38;5;13mEQ.png\u001b[0m                          \u001b[38;5;33m__pycache__\u001b[0m/\n"
     ]
    }
   ],
   "source": [
    "%ls"
   ]
  },
  {
   "cell_type": "code",
   "execution_count": 6,
   "id": "7da6783a-1ebf-419c-831b-aba08d92e6e0",
   "metadata": {},
   "outputs": [
    {
     "data": {
      "text/html": [
       "<div>\n",
       "<style scoped>\n",
       "    .dataframe tbody tr th:only-of-type {\n",
       "        vertical-align: middle;\n",
       "    }\n",
       "\n",
       "    .dataframe tbody tr th {\n",
       "        vertical-align: top;\n",
       "    }\n",
       "\n",
       "    .dataframe thead th {\n",
       "        text-align: right;\n",
       "    }\n",
       "</style>\n",
       "<table border=\"1\" class=\"dataframe\">\n",
       "  <thead>\n",
       "    <tr style=\"text-align: right;\">\n",
       "      <th></th>\n",
       "      <th>time</th>\n",
       "      <th>mag</th>\n",
       "      <th>lat</th>\n",
       "      <th>long</th>\n",
       "      <th>depth</th>\n",
       "    </tr>\n",
       "  </thead>\n",
       "  <tbody>\n",
       "    <tr>\n",
       "      <th>0</th>\n",
       "      <td>2023-08-24 06:41:29.777644</td>\n",
       "      <td>1.617422</td>\n",
       "      <td>47.330313</td>\n",
       "      <td>7.195185</td>\n",
       "      <td>664.062500</td>\n",
       "    </tr>\n",
       "    <tr>\n",
       "      <th>1</th>\n",
       "      <td>2023-12-15 09:21:36.593629</td>\n",
       "      <td>1.596404</td>\n",
       "      <td>47.329904</td>\n",
       "      <td>7.183487</td>\n",
       "      <td>19.531250</td>\n",
       "    </tr>\n",
       "    <tr>\n",
       "      <th>2</th>\n",
       "      <td>2024-01-04 09:07:29.699874</td>\n",
       "      <td>1.416330</td>\n",
       "      <td>47.354615</td>\n",
       "      <td>7.152903</td>\n",
       "      <td>-695.800781</td>\n",
       "    </tr>\n",
       "    <tr>\n",
       "      <th>3</th>\n",
       "      <td>2024-01-04 00:04:19.707245</td>\n",
       "      <td>1.136522</td>\n",
       "      <td>47.363159</td>\n",
       "      <td>7.129268</td>\n",
       "      <td>-620.117188</td>\n",
       "    </tr>\n",
       "    <tr>\n",
       "      <th>4</th>\n",
       "      <td>2023-11-16 13:11:35.554843</td>\n",
       "      <td>1.108087</td>\n",
       "      <td>47.332462</td>\n",
       "      <td>7.194034</td>\n",
       "      <td>-405.273438</td>\n",
       "    </tr>\n",
       "    <tr>\n",
       "      <th>5</th>\n",
       "      <td>2023-04-28 11:55:54.082881</td>\n",
       "      <td>1.099567</td>\n",
       "      <td>47.326425</td>\n",
       "      <td>7.186680</td>\n",
       "      <td>-341.796875</td>\n",
       "    </tr>\n",
       "  </tbody>\n",
       "</table>\n",
       "</div>"
      ],
      "text/plain": [
       "                        time       mag        lat      long       depth\n",
       "0 2023-08-24 06:41:29.777644  1.617422  47.330313  7.195185  664.062500\n",
       "1 2023-12-15 09:21:36.593629  1.596404  47.329904  7.183487   19.531250\n",
       "2 2024-01-04 09:07:29.699874  1.416330  47.354615  7.152903 -695.800781\n",
       "3 2024-01-04 00:04:19.707245  1.136522  47.363159  7.129268 -620.117188\n",
       "4 2023-11-16 13:11:35.554843  1.108087  47.332462  7.194034 -405.273438\n",
       "5 2023-04-28 11:55:54.082881  1.099567  47.326425  7.186680 -341.796875"
      ]
     },
     "execution_count": 6,
     "metadata": {},
     "output_type": "execute_result"
    }
   ],
   "source": [
    "events"
   ]
  },
  {
   "cell_type": "code",
   "execution_count": null,
   "id": "dfe4f102-2c8a-4cd6-a208-b89dd1c25d2b",
   "metadata": {},
   "outputs": [],
   "source": []
  }
 ],
 "metadata": {
  "kernelspec": {
   "display_name": "noisepy_venv",
   "language": "python",
   "name": "noisepy_venv"
  },
  "language_info": {
   "codemirror_mode": {
    "name": "ipython",
    "version": 3
   },
   "file_extension": ".py",
   "mimetype": "text/x-python",
   "name": "python",
   "nbconvert_exporter": "python",
   "pygments_lexer": "ipython3",
   "version": "3.10.4"
  }
 },
 "nbformat": 4,
 "nbformat_minor": 5
}
